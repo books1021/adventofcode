{
 "cells": [
  {
   "cell_type": "markdown",
   "id": "bdb2eff3-caf3-4741-9673-1822fd504954",
   "metadata": {
    "tags": []
   },
   "source": [
    "# using pandas"
   ]
  },
  {
   "cell_type": "code",
   "execution_count": 1,
   "id": "10454636-6b43-4ee3-a3bc-848f7159c739",
   "metadata": {},
   "outputs": [],
   "source": [
    "import pandas as pd"
   ]
  },
  {
   "cell_type": "code",
   "execution_count": 5,
   "id": "9a0527fb-5f3b-4d3c-8a2d-92f5cbf769a9",
   "metadata": {},
   "outputs": [],
   "source": [
    "df=pd.read_csv('d1input.csv',header=None)"
   ]
  },
  {
   "cell_type": "code",
   "execution_count": 6,
   "id": "c82bba42-57ec-4bed-91b4-5e588ee0c490",
   "metadata": {},
   "outputs": [
    {
     "data": {
      "text/html": [
       "<div>\n",
       "<style scoped>\n",
       "    .dataframe tbody tr th:only-of-type {\n",
       "        vertical-align: middle;\n",
       "    }\n",
       "\n",
       "    .dataframe tbody tr th {\n",
       "        vertical-align: top;\n",
       "    }\n",
       "\n",
       "    .dataframe thead th {\n",
       "        text-align: right;\n",
       "    }\n",
       "</style>\n",
       "<table border=\"1\" class=\"dataframe\">\n",
       "  <thead>\n",
       "    <tr style=\"text-align: right;\">\n",
       "      <th></th>\n",
       "      <th>0</th>\n",
       "    </tr>\n",
       "  </thead>\n",
       "  <tbody>\n",
       "    <tr>\n",
       "      <th>0</th>\n",
       "      <td>88159   51481</td>\n",
       "    </tr>\n",
       "    <tr>\n",
       "      <th>1</th>\n",
       "      <td>66127   31794</td>\n",
       "    </tr>\n",
       "    <tr>\n",
       "      <th>2</th>\n",
       "      <td>71500   84893</td>\n",
       "    </tr>\n",
       "    <tr>\n",
       "      <th>3</th>\n",
       "      <td>59372   58807</td>\n",
       "    </tr>\n",
       "    <tr>\n",
       "      <th>4</th>\n",
       "      <td>97356   27409</td>\n",
       "    </tr>\n",
       "  </tbody>\n",
       "</table>\n",
       "</div>"
      ],
      "text/plain": [
       "               0\n",
       "0  88159   51481\n",
       "1  66127   31794\n",
       "2  71500   84893\n",
       "3  59372   58807\n",
       "4  97356   27409"
      ]
     },
     "execution_count": 6,
     "metadata": {},
     "output_type": "execute_result"
    }
   ],
   "source": [
    "df.head()"
   ]
  },
  {
   "cell_type": "code",
   "execution_count": 13,
   "id": "6c27cb16-c20f-42db-872c-93360a6ec0e9",
   "metadata": {},
   "outputs": [
    {
     "data": {
      "text/plain": [
       "pandas.core.series.Series"
      ]
     },
     "execution_count": 13,
     "metadata": {},
     "output_type": "execute_result"
    }
   ],
   "source": [
    "type(df.iloc[0])"
   ]
  },
  {
   "cell_type": "code",
   "execution_count": 17,
   "id": "81f70577-8330-4137-b92c-0d0ab68c17d3",
   "metadata": {},
   "outputs": [],
   "source": [
    "new=df[0].str.split(\" \", n=1, expand=True)"
   ]
  },
  {
   "cell_type": "code",
   "execution_count": 38,
   "id": "7411d7cd-9aa4-4038-8190-5c1be69860e2",
   "metadata": {},
   "outputs": [],
   "source": [
    "new.columns=['c1','c2']"
   ]
  },
  {
   "cell_type": "code",
   "execution_count": 41,
   "id": "e5c3e87f-2d57-4909-9585-9d232615da52",
   "metadata": {},
   "outputs": [
    {
     "data": {
      "text/html": [
       "<div>\n",
       "<style scoped>\n",
       "    .dataframe tbody tr th:only-of-type {\n",
       "        vertical-align: middle;\n",
       "    }\n",
       "\n",
       "    .dataframe tbody tr th {\n",
       "        vertical-align: top;\n",
       "    }\n",
       "\n",
       "    .dataframe thead th {\n",
       "        text-align: right;\n",
       "    }\n",
       "</style>\n",
       "<table border=\"1\" class=\"dataframe\">\n",
       "  <thead>\n",
       "    <tr style=\"text-align: right;\">\n",
       "      <th></th>\n",
       "      <th>c1</th>\n",
       "      <th>c2</th>\n",
       "    </tr>\n",
       "  </thead>\n",
       "  <tbody>\n",
       "    <tr>\n",
       "      <th>0</th>\n",
       "      <td>88159</td>\n",
       "      <td>51481</td>\n",
       "    </tr>\n",
       "    <tr>\n",
       "      <th>1</th>\n",
       "      <td>66127</td>\n",
       "      <td>31794</td>\n",
       "    </tr>\n",
       "    <tr>\n",
       "      <th>2</th>\n",
       "      <td>71500</td>\n",
       "      <td>84893</td>\n",
       "    </tr>\n",
       "    <tr>\n",
       "      <th>3</th>\n",
       "      <td>59372</td>\n",
       "      <td>58807</td>\n",
       "    </tr>\n",
       "    <tr>\n",
       "      <th>4</th>\n",
       "      <td>97356</td>\n",
       "      <td>27409</td>\n",
       "    </tr>\n",
       "  </tbody>\n",
       "</table>\n",
       "</div>"
      ],
      "text/plain": [
       "      c1       c2\n",
       "0  88159    51481\n",
       "1  66127    31794\n",
       "2  71500    84893\n",
       "3  59372    58807\n",
       "4  97356    27409"
      ]
     },
     "execution_count": 41,
     "metadata": {},
     "output_type": "execute_result"
    }
   ],
   "source": [
    "new.head()"
   ]
  },
  {
   "cell_type": "code",
   "execution_count": 44,
   "id": "095bb479-0714-4e91-add7-48141050bd64",
   "metadata": {},
   "outputs": [
    {
     "data": {
      "text/html": [
       "<div>\n",
       "<style scoped>\n",
       "    .dataframe tbody tr th:only-of-type {\n",
       "        vertical-align: middle;\n",
       "    }\n",
       "\n",
       "    .dataframe tbody tr th {\n",
       "        vertical-align: top;\n",
       "    }\n",
       "\n",
       "    .dataframe thead th {\n",
       "        text-align: right;\n",
       "    }\n",
       "</style>\n",
       "<table border=\"1\" class=\"dataframe\">\n",
       "  <thead>\n",
       "    <tr style=\"text-align: right;\">\n",
       "      <th></th>\n",
       "      <th>c1</th>\n",
       "    </tr>\n",
       "  </thead>\n",
       "  <tbody>\n",
       "    <tr>\n",
       "      <th>0</th>\n",
       "      <td>88159</td>\n",
       "    </tr>\n",
       "    <tr>\n",
       "      <th>1</th>\n",
       "      <td>66127</td>\n",
       "    </tr>\n",
       "    <tr>\n",
       "      <th>2</th>\n",
       "      <td>71500</td>\n",
       "    </tr>\n",
       "    <tr>\n",
       "      <th>3</th>\n",
       "      <td>59372</td>\n",
       "    </tr>\n",
       "    <tr>\n",
       "      <th>4</th>\n",
       "      <td>97356</td>\n",
       "    </tr>\n",
       "    <tr>\n",
       "      <th>...</th>\n",
       "      <td>...</td>\n",
       "    </tr>\n",
       "    <tr>\n",
       "      <th>995</th>\n",
       "      <td>38711</td>\n",
       "    </tr>\n",
       "    <tr>\n",
       "      <th>996</th>\n",
       "      <td>90949</td>\n",
       "    </tr>\n",
       "    <tr>\n",
       "      <th>997</th>\n",
       "      <td>82510</td>\n",
       "    </tr>\n",
       "    <tr>\n",
       "      <th>998</th>\n",
       "      <td>21910</td>\n",
       "    </tr>\n",
       "    <tr>\n",
       "      <th>999</th>\n",
       "      <td>38235</td>\n",
       "    </tr>\n",
       "  </tbody>\n",
       "</table>\n",
       "<p>1000 rows × 1 columns</p>\n",
       "</div>"
      ],
      "text/plain": [
       "        c1\n",
       "0    88159\n",
       "1    66127\n",
       "2    71500\n",
       "3    59372\n",
       "4    97356\n",
       "..     ...\n",
       "995  38711\n",
       "996  90949\n",
       "997  82510\n",
       "998  21910\n",
       "999  38235\n",
       "\n",
       "[1000 rows x 1 columns]"
      ]
     },
     "execution_count": 44,
     "metadata": {},
     "output_type": "execute_result"
    }
   ],
   "source": [
    "new[['c1']]"
   ]
  },
  {
   "cell_type": "code",
   "execution_count": 54,
   "id": "69da0173-a598-4a72-bd95-e1620c21923d",
   "metadata": {},
   "outputs": [],
   "source": [
    "new=new.astype(float)"
   ]
  },
  {
   "cell_type": "code",
   "execution_count": 56,
   "id": "7cb8582e-99f8-4527-806d-d3b3479f5134",
   "metadata": {},
   "outputs": [
    {
     "data": {
      "text/plain": [
       "c1    float64\n",
       "c2    float64\n",
       "dtype: object"
      ]
     },
     "execution_count": 56,
     "metadata": {},
     "output_type": "execute_result"
    }
   ],
   "source": [
    "new.dtypes"
   ]
  },
  {
   "cell_type": "code",
   "execution_count": 57,
   "id": "1b5021ed-5638-46f3-a64b-fc91922191f9",
   "metadata": {},
   "outputs": [],
   "source": [
    "trial=new.sort_values(by='c1',ascending=True)"
   ]
  },
  {
   "cell_type": "code",
   "execution_count": 58,
   "id": "f7c73465-6eea-4ddc-ac0b-3d769ef674d1",
   "metadata": {},
   "outputs": [
    {
     "data": {
      "text/html": [
       "<div>\n",
       "<style scoped>\n",
       "    .dataframe tbody tr th:only-of-type {\n",
       "        vertical-align: middle;\n",
       "    }\n",
       "\n",
       "    .dataframe tbody tr th {\n",
       "        vertical-align: top;\n",
       "    }\n",
       "\n",
       "    .dataframe thead th {\n",
       "        text-align: right;\n",
       "    }\n",
       "</style>\n",
       "<table border=\"1\" class=\"dataframe\">\n",
       "  <thead>\n",
       "    <tr style=\"text-align: right;\">\n",
       "      <th></th>\n",
       "      <th>c1</th>\n",
       "      <th>c2</th>\n",
       "    </tr>\n",
       "  </thead>\n",
       "  <tbody>\n",
       "    <tr>\n",
       "      <th>60</th>\n",
       "      <td>10153.0</td>\n",
       "      <td>73124.0</td>\n",
       "    </tr>\n",
       "    <tr>\n",
       "      <th>687</th>\n",
       "      <td>10262.0</td>\n",
       "      <td>51481.0</td>\n",
       "    </tr>\n",
       "    <tr>\n",
       "      <th>216</th>\n",
       "      <td>10396.0</td>\n",
       "      <td>96314.0</td>\n",
       "    </tr>\n",
       "    <tr>\n",
       "      <th>49</th>\n",
       "      <td>10498.0</td>\n",
       "      <td>28807.0</td>\n",
       "    </tr>\n",
       "    <tr>\n",
       "      <th>709</th>\n",
       "      <td>10669.0</td>\n",
       "      <td>29862.0</td>\n",
       "    </tr>\n",
       "    <tr>\n",
       "      <th>...</th>\n",
       "      <td>...</td>\n",
       "      <td>...</td>\n",
       "    </tr>\n",
       "    <tr>\n",
       "      <th>921</th>\n",
       "      <td>99416.0</td>\n",
       "      <td>30124.0</td>\n",
       "    </tr>\n",
       "    <tr>\n",
       "      <th>227</th>\n",
       "      <td>99523.0</td>\n",
       "      <td>50581.0</td>\n",
       "    </tr>\n",
       "    <tr>\n",
       "      <th>276</th>\n",
       "      <td>99724.0</td>\n",
       "      <td>69088.0</td>\n",
       "    </tr>\n",
       "    <tr>\n",
       "      <th>140</th>\n",
       "      <td>99750.0</td>\n",
       "      <td>42777.0</td>\n",
       "    </tr>\n",
       "    <tr>\n",
       "      <th>582</th>\n",
       "      <td>99768.0</td>\n",
       "      <td>43470.0</td>\n",
       "    </tr>\n",
       "  </tbody>\n",
       "</table>\n",
       "<p>1000 rows × 2 columns</p>\n",
       "</div>"
      ],
      "text/plain": [
       "          c1       c2\n",
       "60   10153.0  73124.0\n",
       "687  10262.0  51481.0\n",
       "216  10396.0  96314.0\n",
       "49   10498.0  28807.0\n",
       "709  10669.0  29862.0\n",
       "..       ...      ...\n",
       "921  99416.0  30124.0\n",
       "227  99523.0  50581.0\n",
       "276  99724.0  69088.0\n",
       "140  99750.0  42777.0\n",
       "582  99768.0  43470.0\n",
       "\n",
       "[1000 rows x 2 columns]"
      ]
     },
     "execution_count": 58,
     "metadata": {},
     "output_type": "execute_result"
    }
   ],
   "source": [
    "trial"
   ]
  },
  {
   "cell_type": "code",
   "execution_count": 63,
   "id": "1946fdd5-ef5a-4776-a1cb-039508c11a7b",
   "metadata": {},
   "outputs": [
    {
     "data": {
      "text/html": [
       "<div>\n",
       "<style scoped>\n",
       "    .dataframe tbody tr th:only-of-type {\n",
       "        vertical-align: middle;\n",
       "    }\n",
       "\n",
       "    .dataframe tbody tr th {\n",
       "        vertical-align: top;\n",
       "    }\n",
       "\n",
       "    .dataframe thead th {\n",
       "        text-align: right;\n",
       "    }\n",
       "</style>\n",
       "<table border=\"1\" class=\"dataframe\">\n",
       "  <thead>\n",
       "    <tr style=\"text-align: right;\">\n",
       "      <th></th>\n",
       "      <th>c1</th>\n",
       "    </tr>\n",
       "  </thead>\n",
       "  <tbody>\n",
       "    <tr>\n",
       "      <th>60</th>\n",
       "      <td>10153.0</td>\n",
       "    </tr>\n",
       "    <tr>\n",
       "      <th>687</th>\n",
       "      <td>10262.0</td>\n",
       "    </tr>\n",
       "    <tr>\n",
       "      <th>216</th>\n",
       "      <td>10396.0</td>\n",
       "    </tr>\n",
       "    <tr>\n",
       "      <th>49</th>\n",
       "      <td>10498.0</td>\n",
       "    </tr>\n",
       "    <tr>\n",
       "      <th>709</th>\n",
       "      <td>10669.0</td>\n",
       "    </tr>\n",
       "    <tr>\n",
       "      <th>...</th>\n",
       "      <td>...</td>\n",
       "    </tr>\n",
       "    <tr>\n",
       "      <th>921</th>\n",
       "      <td>99416.0</td>\n",
       "    </tr>\n",
       "    <tr>\n",
       "      <th>227</th>\n",
       "      <td>99523.0</td>\n",
       "    </tr>\n",
       "    <tr>\n",
       "      <th>276</th>\n",
       "      <td>99724.0</td>\n",
       "    </tr>\n",
       "    <tr>\n",
       "      <th>140</th>\n",
       "      <td>99750.0</td>\n",
       "    </tr>\n",
       "    <tr>\n",
       "      <th>582</th>\n",
       "      <td>99768.0</td>\n",
       "    </tr>\n",
       "  </tbody>\n",
       "</table>\n",
       "<p>1000 rows × 1 columns</p>\n",
       "</div>"
      ],
      "text/plain": [
       "          c1\n",
       "60   10153.0\n",
       "687  10262.0\n",
       "216  10396.0\n",
       "49   10498.0\n",
       "709  10669.0\n",
       "..       ...\n",
       "921  99416.0\n",
       "227  99523.0\n",
       "276  99724.0\n",
       "140  99750.0\n",
       "582  99768.0\n",
       "\n",
       "[1000 rows x 1 columns]"
      ]
     },
     "execution_count": 63,
     "metadata": {},
     "output_type": "execute_result"
    }
   ],
   "source": [
    "l1=new[['c1']].sort_values(by='c1',ascending=True)\n",
    "l1"
   ]
  },
  {
   "cell_type": "code",
   "execution_count": 70,
   "id": "93e35d1c-0d00-46ea-b587-59789f8381a2",
   "metadata": {},
   "outputs": [],
   "source": [
    "l1=l1['c1'].to_list()"
   ]
  },
  {
   "cell_type": "code",
   "execution_count": 86,
   "id": "633e60ab-6996-4546-b9b0-f6e60397e3b2",
   "metadata": {},
   "outputs": [],
   "source": [
    "l1=np.array(l1)"
   ]
  },
  {
   "cell_type": "code",
   "execution_count": 64,
   "id": "3746eefe-1e5d-42d7-bbfb-eb878a5a1181",
   "metadata": {},
   "outputs": [
    {
     "data": {
      "text/html": [
       "<div>\n",
       "<style scoped>\n",
       "    .dataframe tbody tr th:only-of-type {\n",
       "        vertical-align: middle;\n",
       "    }\n",
       "\n",
       "    .dataframe tbody tr th {\n",
       "        vertical-align: top;\n",
       "    }\n",
       "\n",
       "    .dataframe thead th {\n",
       "        text-align: right;\n",
       "    }\n",
       "</style>\n",
       "<table border=\"1\" class=\"dataframe\">\n",
       "  <thead>\n",
       "    <tr style=\"text-align: right;\">\n",
       "      <th></th>\n",
       "      <th>c2</th>\n",
       "    </tr>\n",
       "  </thead>\n",
       "  <tbody>\n",
       "    <tr>\n",
       "      <th>28</th>\n",
       "      <td>10159.0</td>\n",
       "    </tr>\n",
       "    <tr>\n",
       "      <th>437</th>\n",
       "      <td>10270.0</td>\n",
       "    </tr>\n",
       "    <tr>\n",
       "      <th>82</th>\n",
       "      <td>10520.0</td>\n",
       "    </tr>\n",
       "    <tr>\n",
       "      <th>267</th>\n",
       "      <td>11160.0</td>\n",
       "    </tr>\n",
       "    <tr>\n",
       "      <th>906</th>\n",
       "      <td>11212.0</td>\n",
       "    </tr>\n",
       "    <tr>\n",
       "      <th>...</th>\n",
       "      <td>...</td>\n",
       "    </tr>\n",
       "    <tr>\n",
       "      <th>753</th>\n",
       "      <td>98652.0</td>\n",
       "    </tr>\n",
       "    <tr>\n",
       "      <th>621</th>\n",
       "      <td>99077.0</td>\n",
       "    </tr>\n",
       "    <tr>\n",
       "      <th>735</th>\n",
       "      <td>99189.0</td>\n",
       "    </tr>\n",
       "    <tr>\n",
       "      <th>786</th>\n",
       "      <td>99346.0</td>\n",
       "    </tr>\n",
       "    <tr>\n",
       "      <th>833</th>\n",
       "      <td>99616.0</td>\n",
       "    </tr>\n",
       "  </tbody>\n",
       "</table>\n",
       "<p>1000 rows × 1 columns</p>\n",
       "</div>"
      ],
      "text/plain": [
       "          c2\n",
       "28   10159.0\n",
       "437  10270.0\n",
       "82   10520.0\n",
       "267  11160.0\n",
       "906  11212.0\n",
       "..       ...\n",
       "753  98652.0\n",
       "621  99077.0\n",
       "735  99189.0\n",
       "786  99346.0\n",
       "833  99616.0\n",
       "\n",
       "[1000 rows x 1 columns]"
      ]
     },
     "execution_count": 64,
     "metadata": {},
     "output_type": "execute_result"
    }
   ],
   "source": [
    "l2=new[['c2']].sort_values(by='c2',ascending=True)\n",
    "l2"
   ]
  },
  {
   "cell_type": "code",
   "execution_count": 71,
   "id": "fd575f46-bb86-4b0f-a900-e88ffb269d52",
   "metadata": {},
   "outputs": [],
   "source": [
    "l2=l2['c2'].to_list()"
   ]
  },
  {
   "cell_type": "code",
   "execution_count": 88,
   "id": "c722c1be-baed-4be6-a565-d8de50e8b3b1",
   "metadata": {},
   "outputs": [],
   "source": [
    "l2=np.array(l2)"
   ]
  },
  {
   "cell_type": "code",
   "execution_count": 91,
   "id": "2932fd8b-6673-4c1f-8da7-7cde9be66194",
   "metadata": {},
   "outputs": [
    {
     "data": {
      "text/plain": [
       "1579939.0"
      ]
     },
     "execution_count": 91,
     "metadata": {},
     "output_type": "execute_result"
    }
   ],
   "source": [
    "sum(abs(l1-l2))"
   ]
  },
  {
   "cell_type": "markdown",
   "id": "d7fe37ae-4491-412e-aea4-74ec4098d16b",
   "metadata": {
    "jp-MarkdownHeadingCollapsed": true,
    "tags": []
   },
   "source": [
    "# using np to read csv instead of pandas"
   ]
  },
  {
   "cell_type": "code",
   "execution_count": 7,
   "id": "94e82c66-8f94-48e4-bd0f-95bb6ef23d9d",
   "metadata": {},
   "outputs": [],
   "source": [
    "import numpy as np"
   ]
  },
  {
   "cell_type": "code",
   "execution_count": 9,
   "id": "11d7615f-63ca-4c37-b418-c6b9c7707bd8",
   "metadata": {},
   "outputs": [],
   "source": [
    "data = np.loadtxt('d1input.csv')"
   ]
  },
  {
   "cell_type": "code",
   "execution_count": 74,
   "id": "467ae8a9-86ce-4521-b799-29cef7ef1db3",
   "metadata": {},
   "outputs": [
    {
     "data": {
      "text/plain": [
       "numpy.ndarray"
      ]
     },
     "execution_count": 74,
     "metadata": {},
     "output_type": "execute_result"
    }
   ],
   "source": [
    "type(data)"
   ]
  },
  {
   "cell_type": "code",
   "execution_count": 11,
   "id": "0a7859b4-6d52-4e5a-a991-a10cb7bf05b6",
   "metadata": {},
   "outputs": [
    {
     "data": {
      "text/plain": [
       "66127.0"
      ]
     },
     "execution_count": 11,
     "metadata": {},
     "output_type": "execute_result"
    }
   ],
   "source": [
    "data[1][0]"
   ]
  },
  {
   "cell_type": "markdown",
   "id": "8f89e0da-804c-4892-a92a-a7b79789abd7",
   "metadata": {},
   "source": [
    "1st column \n",
    "data[:,0]\n",
    "2nd column\n",
    "data[:,1]\n",
    "rmr to sort"
   ]
  },
  {
   "cell_type": "code",
   "execution_count": 95,
   "id": "f9742df5-176c-48b2-ba41-ce649cd6fb20",
   "metadata": {},
   "outputs": [],
   "source": [
    "list1=(np.sort(data[:,0]))"
   ]
  },
  {
   "cell_type": "code",
   "execution_count": 96,
   "id": "2709fb00-616b-4445-9d5c-0c12aaceb03c",
   "metadata": {},
   "outputs": [],
   "source": [
    "list2=(np.sort(data[:,1]))"
   ]
  },
  {
   "cell_type": "code",
   "execution_count": 97,
   "id": "bbff55ad-2aa6-400b-ab14-99c4a674e562",
   "metadata": {},
   "outputs": [
    {
     "data": {
      "text/plain": [
       "1579939.0"
      ]
     },
     "execution_count": 97,
     "metadata": {},
     "output_type": "execute_result"
    }
   ],
   "source": [
    "sum(abs(list1-list2))"
   ]
  },
  {
   "cell_type": "markdown",
   "id": "f74d0f33",
   "metadata": {},
   "source": [
    "# TASK 2 of day 1"
   ]
  },
  {
   "cell_type": "markdown",
   "id": "d1442f81",
   "metadata": {},
   "source": [
    "Calculate a total similarity score"
   ]
  },
  {
   "cell_type": "markdown",
   "id": "0ea40787",
   "metadata": {},
   "source": [
    "## using pandas df "
   ]
  },
  {
   "cell_type": "markdown",
   "id": "3b4e0651",
   "metadata": {},
   "source": [
    "link : https://adventofcode.com/2024/day/1#part2"
   ]
  },
  {
   "cell_type": "markdown",
   "id": "4f18e6ec",
   "metadata": {},
   "source": [
    "set up and loading data"
   ]
  },
  {
   "cell_type": "code",
   "execution_count": 1,
   "id": "3b268c6e-deed-4e5c-a6c7-7e07e582615b",
   "metadata": {},
   "outputs": [],
   "source": [
    "import pandas as pd"
   ]
  },
  {
   "cell_type": "code",
   "execution_count": 2,
   "id": "4867f1f2",
   "metadata": {},
   "outputs": [],
   "source": [
    "df=pd.read_csv('d1input.csv',header=None)"
   ]
  },
  {
   "cell_type": "code",
   "execution_count": 3,
   "id": "9d306f00",
   "metadata": {},
   "outputs": [
    {
     "data": {
      "text/html": [
       "<div>\n",
       "<style scoped>\n",
       "    .dataframe tbody tr th:only-of-type {\n",
       "        vertical-align: middle;\n",
       "    }\n",
       "\n",
       "    .dataframe tbody tr th {\n",
       "        vertical-align: top;\n",
       "    }\n",
       "\n",
       "    .dataframe thead th {\n",
       "        text-align: right;\n",
       "    }\n",
       "</style>\n",
       "<table border=\"1\" class=\"dataframe\">\n",
       "  <thead>\n",
       "    <tr style=\"text-align: right;\">\n",
       "      <th></th>\n",
       "      <th>0</th>\n",
       "    </tr>\n",
       "  </thead>\n",
       "  <tbody>\n",
       "    <tr>\n",
       "      <th>0</th>\n",
       "      <td>88159   51481</td>\n",
       "    </tr>\n",
       "    <tr>\n",
       "      <th>1</th>\n",
       "      <td>66127   31794</td>\n",
       "    </tr>\n",
       "    <tr>\n",
       "      <th>2</th>\n",
       "      <td>71500   84893</td>\n",
       "    </tr>\n",
       "    <tr>\n",
       "      <th>3</th>\n",
       "      <td>59372   58807</td>\n",
       "    </tr>\n",
       "    <tr>\n",
       "      <th>4</th>\n",
       "      <td>97356   27409</td>\n",
       "    </tr>\n",
       "  </tbody>\n",
       "</table>\n",
       "</div>"
      ],
      "text/plain": [
       "               0\n",
       "0  88159   51481\n",
       "1  66127   31794\n",
       "2  71500   84893\n",
       "3  59372   58807\n",
       "4  97356   27409"
      ]
     },
     "execution_count": 3,
     "metadata": {},
     "output_type": "execute_result"
    }
   ],
   "source": [
    "df.head()"
   ]
  },
  {
   "cell_type": "code",
   "execution_count": 4,
   "id": "eb7842d1",
   "metadata": {},
   "outputs": [],
   "source": [
    "new=df[0].str.split(\" \", n=1, expand=True)"
   ]
  },
  {
   "cell_type": "code",
   "execution_count": 5,
   "id": "3c8d1760",
   "metadata": {},
   "outputs": [],
   "source": [
    "new.columns=['c1','c2']"
   ]
  },
  {
   "cell_type": "code",
   "execution_count": 19,
   "id": "749e3aea",
   "metadata": {},
   "outputs": [],
   "source": [
    "new=new.astype(float)"
   ]
  },
  {
   "cell_type": "code",
   "execution_count": 20,
   "id": "79c52e57",
   "metadata": {},
   "outputs": [
    {
     "data": {
      "text/html": [
       "<div>\n",
       "<style scoped>\n",
       "    .dataframe tbody tr th:only-of-type {\n",
       "        vertical-align: middle;\n",
       "    }\n",
       "\n",
       "    .dataframe tbody tr th {\n",
       "        vertical-align: top;\n",
       "    }\n",
       "\n",
       "    .dataframe thead th {\n",
       "        text-align: right;\n",
       "    }\n",
       "</style>\n",
       "<table border=\"1\" class=\"dataframe\">\n",
       "  <thead>\n",
       "    <tr style=\"text-align: right;\">\n",
       "      <th></th>\n",
       "      <th>c1</th>\n",
       "      <th>c2</th>\n",
       "    </tr>\n",
       "  </thead>\n",
       "  <tbody>\n",
       "    <tr>\n",
       "      <th>0</th>\n",
       "      <td>88159.0</td>\n",
       "      <td>51481.0</td>\n",
       "    </tr>\n",
       "    <tr>\n",
       "      <th>1</th>\n",
       "      <td>66127.0</td>\n",
       "      <td>31794.0</td>\n",
       "    </tr>\n",
       "    <tr>\n",
       "      <th>2</th>\n",
       "      <td>71500.0</td>\n",
       "      <td>84893.0</td>\n",
       "    </tr>\n",
       "    <tr>\n",
       "      <th>3</th>\n",
       "      <td>59372.0</td>\n",
       "      <td>58807.0</td>\n",
       "    </tr>\n",
       "    <tr>\n",
       "      <th>4</th>\n",
       "      <td>97356.0</td>\n",
       "      <td>27409.0</td>\n",
       "    </tr>\n",
       "  </tbody>\n",
       "</table>\n",
       "</div>"
      ],
      "text/plain": [
       "        c1       c2\n",
       "0  88159.0  51481.0\n",
       "1  66127.0  31794.0\n",
       "2  71500.0  84893.0\n",
       "3  59372.0  58807.0\n",
       "4  97356.0  27409.0"
      ]
     },
     "execution_count": 20,
     "metadata": {},
     "output_type": "execute_result"
    }
   ],
   "source": [
    "new.head()"
   ]
  },
  {
   "cell_type": "markdown",
   "id": "6465b7d4",
   "metadata": {},
   "source": [
    "for loop the whole list to get similarity score"
   ]
  },
  {
   "cell_type": "code",
   "execution_count": 9,
   "id": "be99abb8",
   "metadata": {},
   "outputs": [
    {
     "data": {
      "text/html": [
       "<div>\n",
       "<style scoped>\n",
       "    .dataframe tbody tr th:only-of-type {\n",
       "        vertical-align: middle;\n",
       "    }\n",
       "\n",
       "    .dataframe tbody tr th {\n",
       "        vertical-align: top;\n",
       "    }\n",
       "\n",
       "    .dataframe thead th {\n",
       "        text-align: right;\n",
       "    }\n",
       "</style>\n",
       "<table border=\"1\" class=\"dataframe\">\n",
       "  <thead>\n",
       "    <tr style=\"text-align: right;\">\n",
       "      <th></th>\n",
       "      <th>c1</th>\n",
       "      <th>c2</th>\n",
       "    </tr>\n",
       "  </thead>\n",
       "  <tbody>\n",
       "    <tr>\n",
       "      <th>0</th>\n",
       "      <td>3</td>\n",
       "      <td>4</td>\n",
       "    </tr>\n",
       "    <tr>\n",
       "      <th>1</th>\n",
       "      <td>4</td>\n",
       "      <td>3</td>\n",
       "    </tr>\n",
       "    <tr>\n",
       "      <th>2</th>\n",
       "      <td>2</td>\n",
       "      <td>5</td>\n",
       "    </tr>\n",
       "    <tr>\n",
       "      <th>3</th>\n",
       "      <td>1</td>\n",
       "      <td>3</td>\n",
       "    </tr>\n",
       "    <tr>\n",
       "      <th>4</th>\n",
       "      <td>3</td>\n",
       "      <td>9</td>\n",
       "    </tr>\n",
       "    <tr>\n",
       "      <th>5</th>\n",
       "      <td>3</td>\n",
       "      <td>3</td>\n",
       "    </tr>\n",
       "  </tbody>\n",
       "</table>\n",
       "</div>"
      ],
      "text/plain": [
       "   c1  c2\n",
       "0   3   4\n",
       "1   4   3\n",
       "2   2   5\n",
       "3   1   3\n",
       "4   3   9\n",
       "5   3   3"
      ]
     },
     "execution_count": 9,
     "metadata": {},
     "output_type": "execute_result"
    }
   ],
   "source": [
    "traildata={'c1':[3,4,2,1,3,3],'c2':[4,3,5,3,9,3]}\n",
    "trialdf=pd.DataFrame(traildata)\n",
    "trialdf"
   ]
  },
  {
   "cell_type": "code",
   "execution_count": 16,
   "id": "9857be9e",
   "metadata": {},
   "outputs": [
    {
     "name": "stdout",
     "output_type": "stream",
     "text": [
      "31\n"
     ]
    }
   ],
   "source": [
    "similarity_score=0\n",
    "for i in trialdf['c1']:\n",
    "    for j in trialdf['c2']:\n",
    "        if i==j:\n",
    "            similarity_score=similarity_score+i\n",
    "print(similarity_score)\n"
   ]
  },
  {
   "cell_type": "markdown",
   "id": "c6ed564e",
   "metadata": {},
   "source": [
    "working on real dataframe"
   ]
  },
  {
   "cell_type": "code",
   "execution_count": 23,
   "id": "2144186d",
   "metadata": {},
   "outputs": [
    {
     "name": "stdout",
     "output_type": "stream",
     "text": [
      "28807.0\n",
      "12446.0\n",
      "41572.0\n",
      "60158.0\n",
      "82862.0\n",
      "91399.0\n",
      "79880.0\n",
      "63653.0\n",
      "77305.0\n",
      "21742.0\n",
      "64123.0\n",
      "58807.0\n",
      "51481.0\n",
      "60615.0\n",
      "50581.0\n",
      "69088.0\n",
      "94484.0\n",
      "68978.0\n",
      "85693.0\n",
      "29057.0\n",
      "90912.0\n",
      "47024.0\n",
      "29845.0\n",
      "68926.0\n",
      "89651.0\n",
      "81626.0\n",
      "61602.0\n",
      "37490.0\n",
      "55130.0\n",
      "30124.0\n",
      "40284.0\n",
      "58940.0\n",
      "65493.0\n",
      "30263.0\n",
      "20351745.0\n"
     ]
    }
   ],
   "source": [
    "similarity_score=0\n",
    "matchedid=0\n",
    "for i in new['c1']:\n",
    "    for j in new['c2']:\n",
    "        if i==j:\n",
    "            similarity_score=similarity_score+i\n",
    "            if matchedid != i:\n",
    "                print(i)\n",
    "                matchedid=i\n",
    "\n",
    "print(similarity_score)"
   ]
  },
  {
   "cell_type": "code",
   "execution_count": 18,
   "id": "17eb98d5",
   "metadata": {},
   "outputs": [
    {
     "data": {
      "text/plain": [
       "c1    object\n",
       "c2    object\n",
       "dtype: object"
      ]
     },
     "execution_count": 18,
     "metadata": {},
     "output_type": "execute_result"
    }
   ],
   "source": [
    "new.dtypes"
   ]
  },
  {
   "cell_type": "markdown",
   "id": "d3954092",
   "metadata": {},
   "source": [
    "## using numpy"
   ]
  },
  {
   "cell_type": "code",
   "execution_count": null,
   "id": "9481943d",
   "metadata": {},
   "outputs": [],
   "source": [
    "import numpy as np\n",
    "data = np.loadtxt('d1input.csv')\n",
    "type(data)"
   ]
  }
 ],
 "metadata": {
  "kernelspec": {
   "display_name": "lewagon",
   "language": "python",
   "name": "python3"
  },
  "language_info": {
   "codemirror_mode": {
    "name": "ipython",
    "version": 3
   },
   "file_extension": ".py",
   "mimetype": "text/x-python",
   "name": "python",
   "nbconvert_exporter": "python",
   "pygments_lexer": "ipython3",
   "version": "3.10.6"
  }
 },
 "nbformat": 4,
 "nbformat_minor": 5
}
