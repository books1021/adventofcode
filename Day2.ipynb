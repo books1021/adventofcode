{
 "cells": [
  {
   "cell_type": "code",
   "execution_count": 67,
   "id": "b2bad163-476b-4fd6-9b76-e7a7587e2721",
   "metadata": {},
   "outputs": [],
   "source": [
    "# 1st task"
   ]
  },
  {
   "cell_type": "markdown",
   "id": "7e68d62c-9a47-4913-9f81-a0e93beb82a9",
   "metadata": {},
   "source": [
    "safe condition:\n",
    "The levels are either all increasing or all decreasing. (monotone)\n",
    "Any two adjacent levels differ by at least one and at most three. (1<=|a-b|<=3)"
   ]
  },
  {
   "cell_type": "code",
   "execution_count": 68,
   "id": "62887816-e35e-4a75-b661-292201465cce",
   "metadata": {},
   "outputs": [],
   "source": [
    "import pandas as pd"
   ]
  },
  {
   "cell_type": "code",
   "execution_count": 69,
   "id": "cb366312-66a1-4b02-999e-b8a970db5514",
   "metadata": {},
   "outputs": [],
   "source": [
    "import numpy as np"
   ]
  },
  {
   "cell_type": "code",
   "execution_count": 70,
   "id": "b29a03ae-65cd-4d75-82dd-c5a19c367dc5",
   "metadata": {},
   "outputs": [],
   "source": [
    "df=pd.read_csv('d2input.csv',header=None)"
   ]
  },
  {
   "cell_type": "code",
   "execution_count": 71,
   "id": "b0a63873-f0bb-4e69-8a0d-1fb5108278e0",
   "metadata": {},
   "outputs": [
    {
     "data": {
      "text/html": [
       "<div>\n",
       "<style scoped>\n",
       "    .dataframe tbody tr th:only-of-type {\n",
       "        vertical-align: middle;\n",
       "    }\n",
       "\n",
       "    .dataframe tbody tr th {\n",
       "        vertical-align: top;\n",
       "    }\n",
       "\n",
       "    .dataframe thead th {\n",
       "        text-align: right;\n",
       "    }\n",
       "</style>\n",
       "<table border=\"1\" class=\"dataframe\">\n",
       "  <thead>\n",
       "    <tr style=\"text-align: right;\">\n",
       "      <th></th>\n",
       "      <th>0</th>\n",
       "    </tr>\n",
       "  </thead>\n",
       "  <tbody>\n",
       "    <tr>\n",
       "      <th>0</th>\n",
       "      <td>42 44 47 49 51 52 54 52</td>\n",
       "    </tr>\n",
       "    <tr>\n",
       "      <th>1</th>\n",
       "      <td>24 27 30 31 32 35 36 36</td>\n",
       "    </tr>\n",
       "    <tr>\n",
       "      <th>2</th>\n",
       "      <td>80 82 85 86 87 90 94</td>\n",
       "    </tr>\n",
       "    <tr>\n",
       "      <th>3</th>\n",
       "      <td>4 5 7 10 13 14 20</td>\n",
       "    </tr>\n",
       "    <tr>\n",
       "      <th>4</th>\n",
       "      <td>38 41 40 42 45 47 50 52</td>\n",
       "    </tr>\n",
       "  </tbody>\n",
       "</table>\n",
       "</div>"
      ],
      "text/plain": [
       "                         0\n",
       "0  42 44 47 49 51 52 54 52\n",
       "1  24 27 30 31 32 35 36 36\n",
       "2     80 82 85 86 87 90 94\n",
       "3        4 5 7 10 13 14 20\n",
       "4  38 41 40 42 45 47 50 52"
      ]
     },
     "execution_count": 71,
     "metadata": {},
     "output_type": "execute_result"
    }
   ],
   "source": [
    "df.head()"
   ]
  },
  {
   "cell_type": "code",
   "execution_count": 72,
   "id": "d5f777dc-cbf3-4f97-b1a8-d012431e5ab5",
   "metadata": {},
   "outputs": [],
   "source": [
    "new=df[0].str.split(pat=' ',expand=True)\n",
    "new=new.astype(float)"
   ]
  },
  {
   "cell_type": "code",
   "execution_count": 73,
   "id": "b1540143-1928-48e2-baa4-a5516e996fb4",
   "metadata": {},
   "outputs": [
    {
     "data": {
      "text/html": [
       "<div>\n",
       "<style scoped>\n",
       "    .dataframe tbody tr th:only-of-type {\n",
       "        vertical-align: middle;\n",
       "    }\n",
       "\n",
       "    .dataframe tbody tr th {\n",
       "        vertical-align: top;\n",
       "    }\n",
       "\n",
       "    .dataframe thead th {\n",
       "        text-align: right;\n",
       "    }\n",
       "</style>\n",
       "<table border=\"1\" class=\"dataframe\">\n",
       "  <thead>\n",
       "    <tr style=\"text-align: right;\">\n",
       "      <th></th>\n",
       "      <th>0</th>\n",
       "      <th>1</th>\n",
       "      <th>2</th>\n",
       "      <th>3</th>\n",
       "      <th>4</th>\n",
       "      <th>5</th>\n",
       "      <th>6</th>\n",
       "      <th>7</th>\n",
       "    </tr>\n",
       "  </thead>\n",
       "  <tbody>\n",
       "    <tr>\n",
       "      <th>0</th>\n",
       "      <td>42.0</td>\n",
       "      <td>44.0</td>\n",
       "      <td>47.0</td>\n",
       "      <td>49.0</td>\n",
       "      <td>51.0</td>\n",
       "      <td>52.0</td>\n",
       "      <td>54.0</td>\n",
       "      <td>52.0</td>\n",
       "    </tr>\n",
       "    <tr>\n",
       "      <th>1</th>\n",
       "      <td>24.0</td>\n",
       "      <td>27.0</td>\n",
       "      <td>30.0</td>\n",
       "      <td>31.0</td>\n",
       "      <td>32.0</td>\n",
       "      <td>35.0</td>\n",
       "      <td>36.0</td>\n",
       "      <td>36.0</td>\n",
       "    </tr>\n",
       "    <tr>\n",
       "      <th>2</th>\n",
       "      <td>80.0</td>\n",
       "      <td>82.0</td>\n",
       "      <td>85.0</td>\n",
       "      <td>86.0</td>\n",
       "      <td>87.0</td>\n",
       "      <td>90.0</td>\n",
       "      <td>94.0</td>\n",
       "      <td>NaN</td>\n",
       "    </tr>\n",
       "    <tr>\n",
       "      <th>3</th>\n",
       "      <td>4.0</td>\n",
       "      <td>5.0</td>\n",
       "      <td>7.0</td>\n",
       "      <td>10.0</td>\n",
       "      <td>13.0</td>\n",
       "      <td>14.0</td>\n",
       "      <td>20.0</td>\n",
       "      <td>NaN</td>\n",
       "    </tr>\n",
       "    <tr>\n",
       "      <th>4</th>\n",
       "      <td>38.0</td>\n",
       "      <td>41.0</td>\n",
       "      <td>40.0</td>\n",
       "      <td>42.0</td>\n",
       "      <td>45.0</td>\n",
       "      <td>47.0</td>\n",
       "      <td>50.0</td>\n",
       "      <td>52.0</td>\n",
       "    </tr>\n",
       "  </tbody>\n",
       "</table>\n",
       "</div>"
      ],
      "text/plain": [
       "      0     1     2     3     4     5     6     7\n",
       "0  42.0  44.0  47.0  49.0  51.0  52.0  54.0  52.0\n",
       "1  24.0  27.0  30.0  31.0  32.0  35.0  36.0  36.0\n",
       "2  80.0  82.0  85.0  86.0  87.0  90.0  94.0   NaN\n",
       "3   4.0   5.0   7.0  10.0  13.0  14.0  20.0   NaN\n",
       "4  38.0  41.0  40.0  42.0  45.0  47.0  50.0  52.0"
      ]
     },
     "execution_count": 73,
     "metadata": {},
     "output_type": "execute_result"
    }
   ],
   "source": [
    "new.head()"
   ]
  },
  {
   "cell_type": "code",
   "execution_count": 74,
   "id": "8a007c6e-9edd-4925-9125-c2542095992a",
   "metadata": {},
   "outputs": [
    {
     "data": {
      "text/plain": [
       "pandas.core.frame.DataFrame"
      ]
     },
     "execution_count": 74,
     "metadata": {},
     "output_type": "execute_result"
    }
   ],
   "source": [
    "type(new)"
   ]
  },
  {
   "cell_type": "code",
   "execution_count": 75,
   "id": "0d5a6523-23e4-4bdb-806f-171543d41208",
   "metadata": {},
   "outputs": [],
   "source": [
    "trial=new.head()"
   ]
  },
  {
   "cell_type": "code",
   "execution_count": 76,
   "id": "f44047f6-de20-442a-a9fd-a3a4a7b00b7f",
   "metadata": {},
   "outputs": [
    {
     "data": {
      "text/plain": [
       "True"
      ]
     },
     "execution_count": 76,
     "metadata": {},
     "output_type": "execute_result"
    }
   ],
   "source": [
    "np.isnan(trial.iloc[2][7])"
   ]
  },
  {
   "cell_type": "code",
   "execution_count": 77,
   "id": "942c052e-54ee-4563-874e-9d8f1d9ccbc7",
   "metadata": {
    "tags": []
   },
   "outputs": [
    {
     "name": "stdout",
     "output_type": "stream",
     "text": [
      "0\n",
      "inc\n",
      "1\n",
      "inc\n",
      "2\n",
      "inc\n",
      "3\n",
      "inc\n",
      "4\n",
      "inc\n",
      "5\n",
      "inc\n",
      "6\n",
      "nan\n",
      "True\n"
     ]
    }
   ],
   "source": [
    "monoinc= True\n",
    "monosequence = 0\n",
    "j=0\n",
    "while (j in range(0,7)) and monoinc==True:\n",
    "    print(j)\n",
    "    if np.isnan(trial.iloc[2][j])or np.isnan(trial.iloc[2][j+1]):\n",
    "        print('nan')\n",
    "        monosequence = monosequence + monoinc\n",
    "        print(monoinc)\n",
    "        j=j+1\n",
    "    elif trial.iloc[2][j]>=trial.iloc[2][j+1]:\n",
    "        monoinc=False\n",
    "        print(monoinc)\n",
    "        j=j+1\n",
    "    else:\n",
    "        print('inc')\n",
    "        j=j+1\n"
   ]
  },
  {
   "cell_type": "code",
   "execution_count": null,
   "id": "ecc814e2-dfc6-4559-9bad-b8e4c9ee0f24",
   "metadata": {},
   "outputs": [],
   "source": [
    "print(new.items())"
   ]
  },
  {
   "cell_type": "code",
   "execution_count": null,
   "id": "d80ff16e-3a13-4b68-a1e1-29240c3f0dab",
   "metadata": {},
   "outputs": [],
   "source": []
  }
 ],
 "metadata": {
  "kernelspec": {
   "display_name": "Python 3 (ipykernel)",
   "language": "python",
   "name": "python3"
  },
  "language_info": {
   "codemirror_mode": {
    "name": "ipython",
    "version": 3
   },
   "file_extension": ".py",
   "mimetype": "text/x-python",
   "name": "python",
   "nbconvert_exporter": "python",
   "pygments_lexer": "ipython3",
   "version": "3.10.6"
  }
 },
 "nbformat": 4,
 "nbformat_minor": 5
}
